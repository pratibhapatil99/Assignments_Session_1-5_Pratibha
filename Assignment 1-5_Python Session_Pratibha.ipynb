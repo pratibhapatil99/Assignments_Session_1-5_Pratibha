{
 "cells": [
  {
   "cell_type": "markdown",
   "metadata": {},
   "source": [
    "# Assignment 1 : PYTHON SESSION 1, 2, 3, 4 & 5"
   ]
  },
  {
   "cell_type": "markdown",
   "metadata": {},
   "source": [
    "## Submission by Pratibha Patil"
   ]
  },
  {
   "cell_type": "markdown",
   "metadata": {},
   "source": [
    "### Session-1 : Python-1"
   ]
  },
  {
   "cell_type": "code",
   "execution_count": 2,
   "metadata": {},
   "outputs": [
    {
     "name": "stdout",
     "output_type": "stream",
     "text": [
      "Hello World !\n"
     ]
    }
   ],
   "source": [
    "# Assignment 2.1 Install Jupyter notebook & Run the first program\n",
    "print(\"Hello World !\")"
   ]
  },
  {
   "cell_type": "code",
   "execution_count": 3,
   "metadata": {},
   "outputs": [
    {
     "name": "stdout",
     "output_type": "stream",
     "text": [
      "[2007, 2014, 2021, 2028, 2042, 2049, 2056, 2063, 2077, 2084, 2091, 2098, 2112, 2119, 2126, 2133, 2147, 2154, 2161, 2168, 2182, 2189, 2196, 2203, 2217, 2224, 2231, 2238, 2252, 2259, 2266, 2273, 2287, 2294, 2301, 2308, 2322, 2329, 2336, 2343, 2357, 2364, 2371, 2378, 2392, 2399, 2406, 2413, 2427, 2434, 2441, 2448, 2462, 2469, 2476, 2483, 2497, 2504, 2511, 2518, 2532, 2539, 2546, 2553, 2567, 2574, 2581, 2588, 2602, 2609, 2616, 2623, 2637, 2644, 2651, 2658, 2672, 2679, 2686, 2693, 2707, 2714, 2721, 2728, 2742, 2749, 2756, 2763, 2777, 2784, 2791, 2798, 2812, 2819, 2826, 2833, 2847, 2854, 2861, 2868, 2882, 2889, 2896, 2903, 2917, 2924, 2931, 2938, 2952, 2959, 2966, 2973, 2987, 2994, 3001, 3008, 3022, 3029, 3036, 3043, 3057, 3064, 3071, 3078, 3092, 3099, 3106, 3113, 3127, 3134, 3141, 3148, 3162, 3169, 3176, 3183, 3197]\n"
     ]
    }
   ],
   "source": [
    "# Assignment 2.2 Write a program which will find all such numbers which are divisible by 7 but are not a multiple of 5, \n",
    "# between 2000 and 3200 (both included). The numbers obtained should be printed in a comma-separated sequence on a single line.\n",
    "l=[]\n",
    "for i in list(range(2000,3201,7)):\n",
    "    if i%5!=0:\n",
    "        l.append(i);\n",
    "print(l)       "
   ]
  },
  {
   "cell_type": "code",
   "execution_count": 6,
   "metadata": {},
   "outputs": [
    {
     "name": "stdout",
     "output_type": "stream",
     "text": [
      "Enter first name : Pratibha\n",
      "Enter Last name : Patil\n",
      "ahbitarP litaP\n"
     ]
    }
   ],
   "source": [
    "#3.Write a Python program to accept the user's first and last name and then getting them printed in the the reverse order with\n",
    "#a space between first name and last name.\n",
    "fname=input(\"Enter first name : \")\n",
    "lname=input(\"Enter Last name : \")\n",
    "name=print(fname[::-1] + \" \" + lname[::-1])"
   ]
  },
  {
   "cell_type": "code",
   "execution_count": 10,
   "metadata": {},
   "outputs": [
    {
     "name": "stdout",
     "output_type": "stream",
     "text": [
      "enter a radius : 6\n",
      "Volume of Sphere =  904.896\n"
     ]
    }
   ],
   "source": [
    "#4.Write a Python program to find the volume of a sphere with diameter 12 cm. Diameter d=2*radius. So diameter 12 means radius=6\n",
    "#Formula: V=4/3 * π * r3\n",
    "pi=3.142\n",
    "r=int(input(\"enter a radius : \"))\n",
    "v=4/3*pi*(r**3)\n",
    "print(\"Volume of Sphere = \",v)"
   ]
  },
  {
   "cell_type": "markdown",
   "metadata": {},
   "source": [
    "### Session 2 : Python-2"
   ]
  },
  {
   "cell_type": "code",
   "execution_count": 11,
   "metadata": {},
   "outputs": [
    {
     "name": "stdout",
     "output_type": "stream",
     "text": [
      "Enter a Comma seperated sequence numbers : Milk, Bread, Butter\n",
      "Generated List :  ['Milk', ' Bread', ' Butter']\n"
     ]
    }
   ],
   "source": [
    "#1. Write a program which accepts a sequence of comma-separated numbers from console and generate a list.\n",
    "n=(input(\"Enter a Comma seperated sequence numbers : \"))\n",
    "l=n.split(\",\")\n",
    "print(\"Generated List : \",l)"
   ]
  },
  {
   "cell_type": "code",
   "execution_count": 12,
   "metadata": {},
   "outputs": [
    {
     "name": "stdout",
     "output_type": "stream",
     "text": [
      "\n",
      " *   \n",
      " *   *   \n",
      " *   *   *   \n",
      " *   *   *   *   \n",
      " *   *   *   *   *   \n",
      " *   *   *   *   \n",
      " *   *   *   \n",
      " *   *   \n",
      " *   "
     ]
    }
   ],
   "source": [
    "#2 Create the below pattern using nested for loop in Python.\n",
    "#*\n",
    "#* *\n",
    "#* * *\n",
    "#* * * *\n",
    "#* * * * *\n",
    "#* * * *\n",
    "#* * *\n",
    "#* *\n",
    "#*\n",
    "for i in range(5):\n",
    "    print(\"\\n\",end=\" \")\n",
    "    for j in range (0,i+1):\n",
    "        print(\"*  \", end=\" \")\n",
    "for i in range(4,0,-1):\n",
    "    print(\"\\n\",end=\" \")\n",
    "    for j in range(0,i):\n",
    "        print(\"*  \", end=\" \")"
   ]
  },
  {
   "cell_type": "code",
   "execution_count": 13,
   "metadata": {},
   "outputs": [
    {
     "name": "stdout",
     "output_type": "stream",
     "text": [
      "Input word: AcadGild\n",
      "Reversed word: dliGdacA\n"
     ]
    }
   ],
   "source": [
    "#3. Write a Python program to reverse a word after accepting the input from the user.\n",
    "w=input(\"Input word: \")\n",
    "print(\"Reversed word:\",w[::-1])"
   ]
  },
  {
   "cell_type": "code",
   "execution_count": 14,
   "metadata": {},
   "outputs": [
    {
     "name": "stdout",
     "output_type": "stream",
     "text": [
      "WE, THE PEOPLE OF INDIA,\n",
      "\t having solemnly resolved to constitute India into a SOVEREIGN,!\n",
      "\t\t SOCIALIST, SECULAR, DEMOCRATIC \n",
      "\t\t    REPUBLIC and to secure to all its citizens\n"
     ]
    }
   ],
   "source": [
    "#4. Write a Python Program to print the given string in the format specified in the sample output.\n",
    "#WE, THE PEOPLE OF INDIA, having solemnly resolved to constitute India into a SOVEREIGN, SOCIALIST, SECULAR, DEMOCRATIC REPUBLIC and to secure to all its citizens\n",
    "#Sample Output:\n",
    "#WE, THE PEOPLE OF INDIA,\n",
    "#having solemnly resolved to constitute India into a SOVEREIGN, !\n",
    "#SOCIALIST, SECULAR, DEMOCRATIC\n",
    "#REPUBLIC and to secure to all its citizens\n",
    "text=\"WE, THE PEOPLE OF INDIA, having solemnly resolved to constitute India into a SOVEREIGN, SOCIALIST, SECULAR, DEMOCRATIC REPUBLIC and to secure to all its citizens\"\n",
    "string=text.split(',')\n",
    "a=string[0]+\",\"+string[1]+\",\"+\"\\n\\t\"\n",
    "b=string[2]+\",!\\n\\t\\t\"\n",
    "string2=string[5].split(\"REPUBLIC\"+\" \")\n",
    "c=string[3]+\",\"+string[4]+ \",\"+string2[0]+\"\\n\\t\\t    \"+\"REPUBLIC\"+\" \"+string2[1]\n",
    "print(a+b+c)"
   ]
  },
  {
   "cell_type": "markdown",
   "metadata": {},
   "source": [
    "### Session-3 : Python-3"
   ]
  },
  {
   "cell_type": "code",
   "execution_count": 15,
   "metadata": {},
   "outputs": [
    {
     "name": "stdout",
     "output_type": "stream",
     "text": [
      "Enter the limit n (for 1st n terms of fibonnaci) : 10\n",
      "Fibonacci Series :  [0, 1, 1, 2, 3, 5, 8, 13, 21, 34]\n",
      "Reduced Sum of fibonnaci n terms :  88\n"
     ]
    }
   ],
   "source": [
    "#1.1. Write a Python Program to implement your own myreduce() function which works exactly like Python's built-in function reduce()\n",
    "\n",
    "#1.1.1 Implementing reduce() function e.g. Fibonacci Series 0,1,1,2,3,5,8,13,21,34,55\n",
    "#  f1=0, f2=1, f3=f1+f2, f4= f2+f3, f5=f3+f4\n",
    "\n",
    "def myreduce():\n",
    "    fib=[]\n",
    "    n=int(input(\"Enter the limit n (for 1st n terms of fibonnaci) : \"))\n",
    "    f1=0\n",
    "    f2=1\n",
    "    n1=n-2\n",
    "    fib.append(f1)\n",
    "    fib.append(f2)\n",
    "    for i in range(n1) :\n",
    "        f3=f1+f2\n",
    "        fib.append(f3)\n",
    "        f1=f2\n",
    "        f2=f3\n",
    "    print(\"Fibonacci Series : \",fib)\n",
    "    s=0\n",
    "    for l in fib:\n",
    "        s=s+l\n",
    "    return(s)\n",
    "\n",
    "sum=myreduce()\n",
    "print(\"Reduced Sum of fibonnaci n terms : \",sum)"
   ]
  },
  {
   "cell_type": "code",
   "execution_count": 16,
   "metadata": {},
   "outputs": [
    {
     "name": "stdout",
     "output_type": "stream",
     "text": [
      "Enter the number (for finding factorial of n) : 5\n",
      "Factorial is :  120\n"
     ]
    }
   ],
   "source": [
    "#1.1.2 Implementing reduce() function e.e Factorial n=1*2*3*.....*(n-2)*(n-1)*n\n",
    "def myreduce(n):\n",
    "    f=1\n",
    "    for i in range(1,n+1):\n",
    "        f=f*i\n",
    "    print(\"Factorial is : \",f)\n",
    "    \n",
    "n=int(input(\"Enter the number (for finding factorial of n) : \"))\n",
    "myreduce(n)"
   ]
  },
  {
   "cell_type": "code",
   "execution_count": 17,
   "metadata": {},
   "outputs": [
    {
     "name": "stdout",
     "output_type": "stream",
     "text": [
      "List has elements :  [4, 7, 39, 6, 20, 45, 82]\n",
      "\n",
      "Filtering Even nos from the list :  [4, 6, 20, 82]\n"
     ]
    }
   ],
   "source": [
    "#1.2.1 Write a Python program to implement your own myfilter() function which works exactly like Python's built-in function filter()\n",
    "# Filters all the even elements from the list\n",
    "lst=[4,7,39,6,20,45,82]\n",
    "print(\"List has elements : \",lst)\n",
    "def myfilter():\n",
    "    evl=[]\n",
    "    for i in lst:\n",
    "        if(i%2==0):\n",
    "            evl.append(i)\n",
    "    print(\"\\nFiltering Even nos from the list : \",evl)\n",
    "myfilter()"
   ]
  },
  {
   "cell_type": "code",
   "execution_count": 19,
   "metadata": {},
   "outputs": [
    {
     "name": "stdout",
     "output_type": "stream",
     "text": [
      "Enter the element 60\n",
      "Enter the element 20\n",
      "Enter the element 45\n",
      "Enter the element 90\n",
      "Enter the element 100\n",
      "List has elements :  [60, 20, 45, 90, 100]\n",
      "\n",
      "Filtering nos divisible by 15 are :  [60, 45, 90]\n"
     ]
    }
   ],
   "source": [
    "#1.2.2 Write a Python program to implement your own myfilter() function which works exactly like Python's built-in function filter()\n",
    "# Filters all elements divisible by 15 from the list\n",
    "lst=[]\n",
    "for a in range(5):\n",
    "    n=int(input(\"Enter the element \"))\n",
    "    lst.append(n)\n",
    "print(\"List has elements : \",lst)\n",
    "def myfilter():\n",
    "    evl=[]\n",
    "    for i in lst:\n",
    "        if(i%15==0):\n",
    "            evl.append(i)\n",
    "    print(\"\\nFiltering nos divisible by 15 are : \",evl)\n",
    "myfilter()"
   ]
  },
  {
   "cell_type": "code",
   "execution_count": 20,
   "metadata": {},
   "outputs": [
    {
     "data": {
      "text/plain": [
       "['A', 'C', 'A', 'D', 'G', 'I', 'L', 'D']"
      ]
     },
     "execution_count": 20,
     "metadata": {},
     "output_type": "execute_result"
    }
   ],
   "source": [
    "#2. Implement List comprehensions to produce the following lists.\n",
    "#2.1 Write List comprehensions to produce the following Lists.\n",
    "#['A', 'C', 'A', 'D', 'G', 'I', ’L’, ‘ D’]\n",
    "[i for i in 'ACADGILD']"
   ]
  },
  {
   "cell_type": "code",
   "execution_count": 21,
   "metadata": {},
   "outputs": [
    {
     "name": "stdout",
     "output_type": "stream",
     "text": [
      "['x', 'xx', 'xxx', 'xxxx', 'y', 'yy', 'yyy', 'yyyy', 'z', 'zz', 'zzz', 'zzzz']\n"
     ]
    }
   ],
   "source": [
    "#2.2 Write List Comprehension to produce the following list\n",
    "#['x', 'xx', 'xxx', 'xxxx', 'y', 'yy', 'yyy', 'yyyy', 'z', 'zz', 'zzz', 'zzzz'] \n",
    "l=['x','y','z']\n",
    "new_lst=[i*n for i in l for n in range(1,5)]\n",
    "print(str(new_lst))"
   ]
  },
  {
   "cell_type": "code",
   "execution_count": 22,
   "metadata": {},
   "outputs": [
    {
     "name": "stdout",
     "output_type": "stream",
     "text": [
      "['x', 'y', 'z', 'xx', 'yy', 'zz', 'xxx', 'yyy', 'zzz', 'xxxxxx', 'yyyyyy', 'zzzzzz']\n"
     ]
    }
   ],
   "source": [
    "#2.3 Write List Comprehension to produce the following list\n",
    "#['x', 'y', 'z', 'xx', 'yy', 'zz', 'xxx', 'yyy', 'zzz', 'xxxx', 'yyyy', 'zzzz','xxxxx', 'yyyyy', 'zzzzz']\n",
    "l=['x','y','z']\n",
    "l.extend([i+i for i in l])\n",
    "l.extend([i+i+i for i in l])\n",
    "print(l)"
   ]
  },
  {
   "cell_type": "code",
   "execution_count": 23,
   "metadata": {},
   "outputs": [
    {
     "name": "stdout",
     "output_type": "stream",
     "text": [
      "[[2], [3], [4], [3], [4], [5], [4], [5], [6]][[2, 3, 4, 5], [3, 4, 5, 6], [4, 5, 6, 7], [5, 6, 7, 8]]\n"
     ]
    }
   ],
   "source": [
    "#2.4 Write List Comprehension to produce the following list\n",
    "#[[2], [3], [4], [3], [4], [5], [4], [5], [6]] [[2, 3, 4, 5], [3, 4, 5, 6], [4, 5, 6, 7], [5, 6, 7, 8]]\n",
    "l=[1,2,3]\n",
    "new_l=[[i+n] for i in l for n in range(1,4)]\n",
    "print(new_l,end=\"\")\n",
    "l=[1,2,3,4,5,6,7,8]\n",
    "final_lst=[l[i:i+4] for i in range(1,5)]\n",
    "print(final_lst)"
   ]
  },
  {
   "cell_type": "code",
   "execution_count": 24,
   "metadata": {},
   "outputs": [
    {
     "data": {
      "text/plain": [
       "[(1, 1), (2, 1), (3, 1), (1, 2), (2, 2), (3, 2), (1, 3), (2, 3), (3, 3)]"
      ]
     },
     "execution_count": 24,
     "metadata": {},
     "output_type": "execute_result"
    }
   ],
   "source": [
    "#2.5 Write List Comprehension to produce the following list\n",
    "#[(1, 1), (2, 1), (3, 1), (1, 2), (2, 2), (3, 2), (1, 3), (2, 3), (3, 3)]\n",
    "a=[1,2,3]\n",
    "[(i,j) for j in a for i in a]"
   ]
  },
  {
   "cell_type": "code",
   "execution_count": 25,
   "metadata": {},
   "outputs": [
    {
     "name": "stdout",
     "output_type": "stream",
     "text": [
      "The words are :  ['my', 'course', 'is', 'master', 'in', 'data', 'science']\n",
      "Longest word length is : ' science ' \n",
      "The length is :  7\n"
     ]
    }
   ],
   "source": [
    "# 3. Implement a function longestWord() that takes a list of words and returns the longest one.\n",
    "def longest_word(w):\n",
    "    for i in w:\n",
    "        x=len(i)\n",
    "        max=x\n",
    "        if (x>max):\n",
    "            max=x\n",
    "    return(i)    \n",
    "w=['my','course','is','master','in','data','science']\n",
    "m=longest_word(w)\n",
    "print(\"The words are : \",w)\n",
    "print(\"Longest word length is : \\'\",m,\"\\'\",\"\\nThe length is : \",len(m))"
   ]
  },
  {
   "cell_type": "markdown",
   "metadata": {},
   "source": [
    "### Session 4 : Python-4"
   ]
  },
  {
   "cell_type": "code",
   "execution_count": 26,
   "metadata": {},
   "outputs": [
    {
     "name": "stdout",
     "output_type": "stream",
     "text": [
      "Area of triangle is :  24.0\n"
     ]
    }
   ],
   "source": [
    "#1.1 Write a Python Program(with class concepts) to find the area of the triangle using the below formula.\n",
    "#area = (s*(s-a)*(s-b)*(s-c)) ** 0.5\n",
    "#Function to take the length of the sides of triangle from user should be defined in the parent class and function to \n",
    "#calculate the area should be defined in subclass.\n",
    "class Shape: \n",
    "    def __init__(self,a,b,c):\n",
    "        self.a = a\n",
    "        self.b = b\n",
    "        self.c = c\n",
    "\n",
    "class Triangle(Shape): \n",
    "    s=0\n",
    "    def area(self):\n",
    "        self.s=(self.a+self.b+self.c)/2     \n",
    "        ar=(self.s*(self.s-self.a)*(self.s-self.b)*(self.s-self.c))**0.5\n",
    "        print(\"Area of triangle is : \",ar)\n",
    "\n",
    "S=Shape(10,8,6)\n",
    "T=Triangle(10,8,6)\n",
    "T.area()\n"
   ]
  },
  {
   "cell_type": "code",
   "execution_count": 27,
   "metadata": {},
   "outputs": [
    {
     "name": "stdout",
     "output_type": "stream",
     "text": [
      "Input the list of words : Programming python Data Science Masters\n",
      "Input an integer : 6\n",
      "The list of words greater than the integer is :  ['Programming', 'Science', 'Masters']\n"
     ]
    }
   ],
   "source": [
    "#1.2 Write a function filter_long_words() that takes a list of words and an integer n and returns the list of words that are longer than n.\n",
    "def filter_long_word(string,n):\n",
    "    return([word for word in string if len(word)>n])\n",
    "words=input(\"Input the list of words : \").split()\n",
    "no=int(input(\"Input an integer : \"))\n",
    "w=filter_long_word(words,no)\n",
    "print(\"The list of words greater than the integer is : \",w)"
   ]
  },
  {
   "cell_type": "code",
   "execution_count": 28,
   "metadata": {},
   "outputs": [
    {
     "name": "stdout",
     "output_type": "stream",
     "text": [
      "[6, 4, 11]\n"
     ]
    }
   ],
   "source": [
    "#2.1 Write a Python program using function concept that maps list of words into a list of integers representing the lengths of the corresponding words.\n",
    "#Hint: If a list [ ab,cde,erty] is passed on to the python function output should come as [2,3,4]\n",
    "#Here 2,3 and 4 are the lengths of the words in the list.\n",
    "def map_words_len(words):\n",
    "    return [len(w) for w in words]\n",
    "words=['Python','json','DataScience']    \n",
    "print(map_words_len(words))"
   ]
  },
  {
   "cell_type": "code",
   "execution_count": 29,
   "metadata": {},
   "outputs": [
    {
     "name": "stdout",
     "output_type": "stream",
     "text": [
      "True\n",
      "False\n",
      "False\n",
      "True\n"
     ]
    }
   ],
   "source": [
    "#2.2 Write a Python function which takes a character (i.e. a string of length 1) and returns True if it is a vowel, False otherwise.\n",
    "def is_vowel(char):\n",
    "    all_vowels='aeiou'\n",
    "    return char in all_vowels\n",
    "print(is_vowel('a'))\n",
    "print(is_vowel('b'))\n",
    "print(is_vowel('p'))\n",
    "print(is_vowel('i'))"
   ]
  },
  {
   "cell_type": "markdown",
   "metadata": {},
   "source": [
    "### Session 5 : Python-5"
   ]
  },
  {
   "cell_type": "code",
   "execution_count": 30,
   "metadata": {},
   "outputs": [
    {
     "name": "stdout",
     "output_type": "stream",
     "text": [
      "Sorry, you are dividing by zero !\n"
     ]
    }
   ],
   "source": [
    "#1. Write a function to compute 5/0 and use try/except to catch the exceptions.\n",
    "def divide(a,b):\n",
    "    try:\n",
    "        ans=a/b\n",
    "        print(\"Answer is = \",ans)\n",
    "    except ZeroDivisionError:\n",
    "        print(\"Sorry, you are dividing by zero !\")\n",
    "divide(5,0)"
   ]
  },
  {
   "cell_type": "code",
   "execution_count": 31,
   "metadata": {},
   "outputs": [
    {
     "data": {
      "text/plain": [
       "[('Americans', 'play', 'Baseball'),\n",
       " ('Americans', 'play', 'Cricket'),\n",
       " ('Americans', 'watch', 'Baseball'),\n",
       " ('Americans', 'watch', 'Cricket'),\n",
       " ('Indians', 'play', 'Baseball'),\n",
       " ('Indians', 'play', 'Cricket'),\n",
       " ('Indians', 'watch', 'Baseball'),\n",
       " ('Indians', 'watch', 'Cricket')]"
      ]
     },
     "execution_count": 31,
     "metadata": {},
     "output_type": "execute_result"
    }
   ],
   "source": [
    "#2. Implement a Python program to generate all sentences where subject is in [\"Americans\", \"Indians\"] and verb is in [\"Play\", \"watch\"] and the object is in [\"Baseball\",\"cricket\"].\n",
    "subjects=['Americans','Indians']\n",
    "verbs=['play','watch']\n",
    "objects=['Baseball','Cricket']\n",
    "[(s,v,o) for s in subjects for v in verbs for o in objects]"
   ]
  }
 ],
 "metadata": {
  "kernelspec": {
   "display_name": "Python 3",
   "language": "python",
   "name": "python3"
  },
  "language_info": {
   "codemirror_mode": {
    "name": "ipython",
    "version": 3
   },
   "file_extension": ".py",
   "mimetype": "text/x-python",
   "name": "python",
   "nbconvert_exporter": "python",
   "pygments_lexer": "ipython3",
   "version": "3.7.1"
  }
 },
 "nbformat": 4,
 "nbformat_minor": 2
}
